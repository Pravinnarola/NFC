{
 "cells": [
  {
   "cell_type": "markdown",
   "metadata": {},
   "source": [
    "# What is NFC?\n",
    "\n",
    "## Introduction\n",
    "NFC stands for Near Field Communication.We can say, that with use of NFC two devices can communicate with each other, but with some rules or protocols.It was jointly devoloped by Sony and Phillips.This is wireless technology and both device should be in some prefix range, so they able to communicate.NFC uses RFID(Radio Frequency Identification) with Protocols.Protocol determines operating System, data formats, modulation and data rates.\n",
    "\n",
    "NFC uses inductive coupling for getting connected two NFC devices with help of electromagnetic field at 13.56 MHz.\n",
    "\n",
    "The main uses of this technology are:\n",
    "### payment and tickiting\n",
    "NFC enables electronic Transfer, it replace wallet with a simple card and makes process simpler and fast.it use electronic tickets, such as concert tickets, transfer tickets, plane cards, etc.\n",
    "\n",
    "### electronic keys\n",
    "For example, it could be use such as car keys ,door unlockig/locking keys ,parking keys etc.\n",
    "\n",
    "### identification\n",
    "This technology able to Identify object and person as well.For example, In japan student identification doing by electronic id card or mobile phone.Students can use it for various perpous, such as, to enter in building, to pursue Book , to buy food from cafeteria, to attend him/her self ,to get disscounts for movie tickets,playing instruments and food courts.\n",
    "\n",
    "### Contextual information\n",
    "In addition,NFC makes it possible that via mobile phones data can be access from the posters or DVD box by tag, that uses for travel maps, travel timetables and access of stored records.\n",
    "\n",
    "### Smart objects control, pairing \n",
    "With use of two NFC devices, we may pairing a secure connection between them and allow media transfer such sound, images, video via Wireless LAN or Bluetooth for longer range.\n"
   ]
  },
  {
   "cell_type": "code",
   "execution_count": 30,
   "metadata": {},
   "outputs": [
    {
     "name": "stderr",
     "output_type": "stream",
     "text": [
      "/usr/lib/python3/dist-packages/numpy/core/numeric.py:482: ComplexWarning: Casting complex values to real discards the imaginary part\n",
      "  return array(a, dtype, copy=False, order=order)\n"
     ]
    },
    {
     "data": {
      "image/png": "[encoded data removed]",
      "text/plain": [
       "<matplotlib.figure.Figure at 0x7f6028cb8668>"
      ]
     },
     "metadata": {},
     "output_type": "display_data"
    }
   ],
   "source": [
    "%matplotlib inline\n",
    "import numpy as np\n",
    "import matplotlib.pyplot as plt\n",
    "from decimal import *\n",
    "\n",
    "#Bone\n",
    "sigma = 0.8 # sigma\n",
    "mu_r = 1 #mu\n",
    "epsilon_r = 3.06\n",
    "f = 13.56\n",
    "pi = np.pi\n",
    "mu_0 = 4*pi*10**(-7)\n",
    "epsilon_0 =8.854 * 10**(-12)\n",
    "epsilon = epsilon_r*epsilon_0\n",
    "mu = mu_r*mu_0\n",
    "w = 2*pi*f\n",
    "p = mu*epsilon/2\n",
    "q = (1+(sigma/w*epsilon)**2)**(1/2)\n",
    "alpha = w*(p*q-1)**(1/2)\n",
    "a0 = 1\n",
    "e = 2.714\n",
    "\n",
    "\n",
    "\n",
    "            \n",
    "z=np.arange(0.001,0.05,0.0001)\n",
    "y=a0/e**(alpha*z)\n",
    "#print (y)\n",
    "plt.plot(z,y)\n",
    "plt.title('Attenuation and Skin Depth')\n",
    "plt.xlabel('z(m)')\n",
    "plt.ylabel('Attenuation(db)')\n",
    "plt.grid(True)\n",
    "plt.legend(['I(z)-z'], loc='upper right')\n",
    "\n",
    "plt.show()"
   ]
  }
 ],
 "metadata": {
  "kernelspec": {
   "display_name": "Python 3",
   "language": "python",
   "name": "python3"
  },
  "language_info": {
   "codemirror_mode": {
    "name": "ipython",
    "version": 3
   },
   "file_extension": ".py",
   "mimetype": "text/x-python",
   "name": "python",
   "nbconvert_exporter": "python",
   "pygments_lexer": "ipython3",
   "version": "3.5.2"
  }
 },
 "nbformat": 4,
 "nbformat_minor": 2
}
