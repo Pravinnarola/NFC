{
 "cells": [
  {
   "cell_type": "markdown",
   "metadata": {},
   "source": [
    "# What is NFC?\n",
    "\n",
    "## Introduction\n",
    "NFC stands for Near Field Communication.We can say, that with use of NFC two devices can communicate with each other, but with some rules or protocols.It was jointly devoloped by Sony and Phillips.This is wireless technology and both device should be in some prefix range, so they able to communicate.NFC uses RFID(Radio Frequency Identification) with Protocols.Protocol determines operating System, data formats, modulation and data rates.\n",
    "\n",
    "NFC uses inductive coupling for getting connected two NFC devices with help of electromagnetic field at 13.56 MHz.\n",
    "\n",
    "The main uses of this technology are:\n",
    "### payment and ticketing\n",
    "NFC enables electronic Transfer, and it replaces a wallet with a simple card and makes process simpler and fast.it uses electronic tickets, such as concert tickets, transfer tickets, plane cards, etc.\n",
    "\n",
    "### electronic keys\n",
    "For example, it could be using such as car keys, door unlocking/locking keys, parking keys, etc.\n",
    "\n",
    "### identification\n",
    "This technology able to Identify object and person as well.For example, In japan student identification doing by electronic id card or mobile phone.Students can use it for various purposes, such as, to enter in building, to pursue Book, to buy food from the cafeteria, to attend him/herself, to get discounts for movie tickets, playing instruments and food courts.\n",
    "\n",
    "### Contextual information\n",
    "In addition, NFC makes it possible that via mobile phones data can be access from the posters or DVD box by tag, that uses for travel maps, travel timetables and access of stored records.\n",
    "\n",
    "### Smart objects control, pairing \n",
    "With use of two NFC devices, we may pair a secure connection between them and allow media transfer such sound, images, video via the Wireless LAN or Bluetooth for longer range.\n"
   ]
  },
  {
   "cell_type": "code",
   "execution_count": 53,
   "metadata": {},
   "outputs": [
    {
     "data": {
      "image/png": "[encoded data removed]",
      "text/plain": [
       "<matplotlib.figure.Figure at 0x7f6028e5bd30>"
      ]
     },
     "metadata": {},
     "output_type": "display_data"
    }
   ],
   "source": [
    "%matplotlib inline\n",
    "import numpy as np\n",
    "import matplotlib.pyplot as plt\n",
    "from decimal import *\n",
    "\n",
    "#Bone\n",
    "sigma = 0.32 \n",
    "mu_r = 1 \n",
    "epsilon_r = 3.06\n",
    "\n",
    "f = 13.56\n",
    "pi = np.pi\n",
    "mu_0 = 4*pi*10**(-7)\n",
    "epsilon_0 =8.854 * 10**(-12)\n",
    "epsilon = epsilon_r*epsilon_0\n",
    "mu = mu_r*mu_0\n",
    "w = 2*pi*f\n",
    "p = mu*epsilon/2\n",
    "q = (1+(sigma/w*epsilon)**2)**(1/2)\n",
    "alpha = w*(p*q-1)**(1/2)\n",
    "a0 = 1\n",
    "e = 2.714\n",
    "y=a0/e**(np.abs(alpha)*z)\n",
    "\n",
    "\n",
    "#fat\n",
    "sigma_1 = 0.21 \n",
    "mu_r1 = 1 \n",
    "epsilon_r1 = 2.54\n",
    "f = 13.56\n",
    "pi = np.pi\n",
    "mu_0 = 4*pi*10**(-7)\n",
    "epsilon_0 =8.854 * 10**(-12)\n",
    "epsilon_1 = epsilon_r1*epsilon_0     #new one\n",
    "mu_1 = mu_r1*mu_0                    #new one\n",
    "w = 2*pi*f\n",
    "p1 = mu_1*epsilon_1/2\n",
    "q1 = (1+(sigma_1/w*epsilon_1)**2)**(1/2)\n",
    "alpha_1 = w*(p1*q1-1)**(1/2)\n",
    "y1 = a0/e**(np.abs(alpha_1)*z)      #result store for fat\n",
    "\n",
    "\n",
    "#skin\n",
    "sigma_2 = 0.25 \n",
    "mu_r2 = 1 \n",
    "epsilon_r2 = 2.85\n",
    "f = 13.56\n",
    "pi = np.pi\n",
    "mu_0 = 4*pi*10**(-7)\n",
    "epsilon_0 =8.854 * 10**(-12)\n",
    "epsilon_2 = epsilon_r2*epsilon_0      #for new value\n",
    "mu_2 = mu_r2*mu_0                     #for new value\n",
    "w = 2*pi*f\n",
    "p2 = mu_2*epsilon_2/2\n",
    "q2 = (1+(sigma_2/w*epsilon_2)**2)**(1/2)\n",
    "alpha_2 = w*(p2*q2-1)**(1/2)\n",
    "y2 = a0/e**(np.abs(alpha_2)*z)       #result store for skin\n",
    "                 \n",
    "\n",
    "\n",
    "\n",
    "            \n",
    "z=np.arange(0.001,0.05,0.0001)\n",
    "\n",
    "#print (y)\n",
    "plt.plot(z,y,)\n",
    "plt.plot(z,y1,)\n",
    "plt.plot(z,y2,)\n",
    "plt.title('Attenuation and Skin Depth')\n",
    "plt.xlabel('z(m)')\n",
    "plt.ylabel('Attenuation(db)')\n",
    "plt.grid(True)\n",
    "\n",
    "'''\n",
    "fig, ax = plt.subplots()\n",
    "ax.plot(a, c, 'k--', label='Model length')\n",
    "ax.plot(a, d, 'k:', label='Data length')\n",
    "ax.plot(a, c + d, 'k', label='Total message length')\n",
    "\n",
    "legend = ax.legend(loc='upper center', shadow=True, fontsize='x-large')\n",
    "\n",
    "'''\n",
    "\n",
    "plt.legend(['skin'], loc='upper right')\n",
    "\n",
    "plt.show()"
   ]
  },
  {
   "cell_type": "code",
   "execution_count": 35,
   "metadata": {},
   "outputs": [
    {
     "data": {
      "text/plain": [
       "(5.216994921373494e-15+85.19999276535519j)"
      ]
     },
     "execution_count": 35,
     "metadata": {},
     "output_type": "execute_result"
    }
   ],
   "source": [
    "alpha"
   ]
  },
  {
   "cell_type": "code",
   "execution_count": 36,
   "metadata": {},
   "outputs": [
    {
     "data": {
      "text/plain": [
       "85.199992765355191"
      ]
     },
     "execution_count": 36,
     "metadata": {},
     "output_type": "execute_result"
    }
   ],
   "source": [
    "np.abs(alpha)"
   ]
  },
  {
   "cell_type": "code",
   "execution_count": null,
   "metadata": {},
   "outputs": [],
   "source": []
  }
 ],
 "metadata": {
  "kernelspec": {
   "display_name": "Python 3",
   "language": "python",
   "name": "python3"
  },
  "language_info": {
   "codemirror_mode": {
    "name": "ipython",
    "version": 3
   },
   "file_extension": ".py",
   "mimetype": "text/x-python",
   "name": "python",
   "nbconvert_exporter": "python",
   "pygments_lexer": "ipython3",
   "version": "3.5.2"
  }
 },
 "nbformat": 4,
 "nbformat_minor": 2
}
